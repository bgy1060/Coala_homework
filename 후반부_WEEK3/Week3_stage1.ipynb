{
 "cells": [
  {
   "cell_type": "markdown",
   "metadata": {},
   "source": [
    "## Decision Tree\n",
    "\n",
    "- 의사 결정하는데 도움을 주는 나무 모양의 예측 모델\n",
    "- 일반적으로 빠르게 정답에 도달할 수록 더 우수한 트리로 본다. (하지만 더 높은 성공률을 보장하지는 않는다.)"
   ]
  },
  {
   "cell_type": "markdown",
   "metadata": {},
   "source": [
    "### 1. 카테고리 데이터 기반의 Tree 만들기"
   ]
  },
  {
   "cell_type": "code",
   "execution_count": 10,
   "metadata": {},
   "outputs": [],
   "source": [
    "data={\n",
    "    'name':['고양이','펭귄','닭','타조','참새'],\n",
    "    'wing':[False,True,True,True,True],\n",
    "    'weight':['light','heavy','light','heavy','light'],\n",
    "    'density':['low','high','high','high','low'],\n",
    "    'fly':[False,False,False,False,True]\n",
    "}"
   ]
  },
  {
   "cell_type": "code",
   "execution_count": 11,
   "metadata": {},
   "outputs": [
    {
     "name": "stdout",
     "output_type": "stream",
     "text": [
      "{'name': ['고양이', '펭귄', '닭', '타조', '참새'], 'wing': [False, True, True, True, True], 'weight': ['light', 'heavy', 'light', 'heavy', 'light'], 'density': ['low', 'high', 'high', 'high', 'low'], 'fly': [False, False, False, False, True]}\n"
     ]
    }
   ],
   "source": [
    "print(data)"
   ]
  },
  {
   "cell_type": "code",
   "execution_count": 12,
   "metadata": {},
   "outputs": [
    {
     "name": "stdout",
     "output_type": "stream",
     "text": [
      "고양이는 날개가 있을 까? False\n",
      "닭은 날개가 있을까? True\n"
     ]
    }
   ],
   "source": [
    "print('고양이는 날개가 있을 까?',data['wing'][0])\n",
    "print('닭은 날개가 있을까?',data['wing'][2])"
   ]
  },
  {
   "cell_type": "code",
   "execution_count": 13,
   "metadata": {},
   "outputs": [
    {
     "name": "stdout",
     "output_type": "stream",
     "text": [
      "True heavy high False\n"
     ]
    }
   ],
   "source": [
    "print(data['wing'][1],\n",
    "     data['weight'][1],\n",
    "     data['density'][1],\n",
    "     data['fly'][1])"
   ]
  },
  {
   "cell_type": "code",
   "execution_count": 14,
   "metadata": {},
   "outputs": [
    {
     "name": "stdout",
     "output_type": "stream",
     "text": [
      "True heavy high False\n"
     ]
    }
   ],
   "source": [
    "bird_no=3\n",
    "print(data['wing'][bird_no],\n",
    "     data['weight'][bird_no],\n",
    "     data['density'][bird_no],\n",
    "     data['fly'][bird_no])"
   ]
  },
  {
   "cell_type": "code",
   "execution_count": 26,
   "metadata": {},
   "outputs": [
    {
     "name": "stdout",
     "output_type": "stream",
     "text": [
      "참새 : 날 수 있는지 확인합니다.\n",
      "날 수 있다!!\n"
     ]
    }
   ],
   "source": [
    "target_index=4\n",
    "\n",
    "print(data['name'][target_index],\": 날 수 있는지 확인합니다.\")\n",
    "\n",
    "# 날개/몸무게/골밀도를 순서대로 확인하며 decision tree 구현\n",
    "\n",
    "#날개 유무\n",
    "if data['wing'][target_index]==True:\n",
    "    #날개가 있는 경우\n",
    "    if data['weight'][target_index]=='heavy':\n",
    "        # 몸무게가 무거운 경우\n",
    "        print('날 수 없다.')\n",
    "    else:\n",
    "        #몸무게가 가벼운 경우\n",
    "        if data['density'][target_index]=='high':\n",
    "            #골밀도가 높은 경우\n",
    "            print('날 수 없다.')\n",
    "        else:\n",
    "            print('날 수 있다!!')\n",
    "    \n",
    "else:\n",
    "    #날개가 없는 경우\n",
    "    print(\"날 수 없다.\")\n",
    "    "
   ]
  },
  {
   "cell_type": "markdown",
   "metadata": {},
   "source": [
    "### 2. 연속적 특성 데이터 기반의 Tree 만들기"
   ]
  },
  {
   "cell_type": "code",
   "execution_count": 27,
   "metadata": {},
   "outputs": [],
   "source": [
    "data={\n",
    "    'age':[28,22,11,10],\n",
    "    'fsize':[270,235,280,220],\n",
    "    'gender':['male','female','male','female']\n",
    "}"
   ]
  },
  {
   "cell_type": "code",
   "execution_count": 32,
   "metadata": {},
   "outputs": [
    {
     "name": "stdout",
     "output_type": "stream",
     "text": [
      "4번 회원 : 성별을 확인합니다.\n",
      "female\n"
     ]
    }
   ],
   "source": [
    "target_index=3\n",
    "\n",
    "target_names=['1번 회원','2번 회원','3번 회원','4번 회원']\n",
    "\n",
    "print(target_names[target_index],': 성별을 확인합니다.')\n",
    "\n",
    "#나이가 20살 이하인지 확인\n",
    "if data['age'][target_index]<=20:\n",
    "    if data['fsize'][target_index]<=250:\n",
    "        print('female')\n",
    "    else:\n",
    "        print('male')\n",
    "else:\n",
    "    if data['fsize'][target_index]>=260:\n",
    "        print('male')\n",
    "    else:\n",
    "        print('female')"
   ]
  },
  {
   "cell_type": "code",
   "execution_count": null,
   "metadata": {},
   "outputs": [],
   "source": []
  }
 ],
 "metadata": {
  "kernelspec": {
   "display_name": "Python 3",
   "language": "python",
   "name": "python3"
  },
  "language_info": {
   "codemirror_mode": {
    "name": "ipython",
    "version": 3
   },
   "file_extension": ".py",
   "mimetype": "text/x-python",
   "name": "python",
   "nbconvert_exporter": "python",
   "pygments_lexer": "ipython3",
   "version": "3.7.6"
  }
 },
 "nbformat": 4,
 "nbformat_minor": 4
}
