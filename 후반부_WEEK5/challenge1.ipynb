{
 "cells": [
  {
   "cell_type": "code",
   "execution_count": 1,
   "metadata": {},
   "outputs": [],
   "source": [
    "data=[(1,5),(1.5,4),(2,3),(3,1),(3,2),(4,1),(5.1,5),(6,2),(6,4),(7,4),(7,5)]"
   ]
  },
  {
   "cell_type": "code",
   "execution_count": 12,
   "metadata": {},
   "outputs": [
    {
     "name": "stdout",
     "output_type": "stream",
     "text": [
      "44.412026\n"
     ]
    }
   ],
   "source": [
    "a=0.1\n",
    "b=0.1\n",
    "c=0.1\n",
    "\n",
    "sums=0\n",
    "\n",
    "for (x,y) in data:\n",
    "    predict=a*x*x+b*y+c\n",
    "    sums+=(y-predict)*(y-predict)\n",
    "print(sums)"
   ]
  },
  {
   "cell_type": "code",
   "execution_count": null,
   "metadata": {},
   "outputs": [],
   "source": []
  }
 ],
 "metadata": {
  "kernelspec": {
   "display_name": "Python 3",
   "language": "python",
   "name": "python3"
  },
  "language_info": {
   "codemirror_mode": {
    "name": "ipython",
    "version": 3
   },
   "file_extension": ".py",
   "mimetype": "text/x-python",
   "name": "python",
   "nbconvert_exporter": "python",
   "pygments_lexer": "ipython3",
   "version": "3.7.6"
  }
 },
 "nbformat": 4,
 "nbformat_minor": 4
}
